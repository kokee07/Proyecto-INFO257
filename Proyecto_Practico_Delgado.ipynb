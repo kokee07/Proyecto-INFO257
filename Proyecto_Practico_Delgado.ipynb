{
 "cells": [
  {
   "cell_type": "markdown",
   "metadata": {},
   "source": [
    "# Proyecto práctico\n",
    "\n",
    "## Estudiante: Jorge Delgado González.\n",
    "\n",
    "## Unidad 3 - Aprendizaje supervisado\n",
    "\n",
    "El proyecto práctico consiste en abordar un problema de clasificación de documentos textuales. Tenemos a nuestra disposición un dataset de noticias de prensa en español publicada por el medio \"CNN Chile\".\n",
    "\n",
    "Las noticias están divididas en 7 categorías temáticas: *'pais','deportes','tendencias','tecnologias','cultura','economia','mundo'*\n",
    "\n",
    "El proyecto se divide en dos partes:\n",
    "\n",
    "- Utilizar al menos 3 estrategías para entrenar modelos de clasificación capaces de clasificar las noticias según su categoría temática.\n",
    "\n",
    "- Explorar cuáles son las características que permiten explicar las decisiones de su modelo.\n",
    "\n",
    "## 0. Evaluación\n",
    "\n",
    "El proyecto se realiza de forma individual. Se entrega a más tardar el **lunes 30 de noviembre** en su repositorio GitHub.\n",
    "\n",
    "**Pauta de evaluación:**\n",
    "\n",
    "Competencia 1: Aplicar un protocolo de aprendizaje supervisado para resolver un problema clasificación estandar, utilizando un entorno de programación en Python\n",
    "\n",
    "- < 2 : El protocolo de aprendizaje supervisado utilizado es incompleto y/o presenta errores importantes\n",
    "- 2 a 3.9 : El protocolo de aprendizaje supervisado utilizado es incompleto o presenta un error importante\n",
    "- 4 a 5.5 : El protocolo de aprendizaje es completo, no tiene error, pero las estrategias utilizadas son relativamente simples y el rendimiento de los modelos es perfectible.\n",
    "- 5.6 a 7.0 : El protocolo de aprendizaje es completo, no tiene error y al menos una de las estrategias utilizadas a necesitado un trabajado más avanzado y/o permite obtener un mejor rendimiento.\n",
    "\n",
    "Competencia 2: Explicar el rendimiento de un modelo de clasificación aplicando un protocolo de evaluación Precision/Recall/F-Score\n",
    "\n",
    "- < 2 : El trabajo no presenta explicaciones del rendimiento de los modelos de clasificación\n",
    "- 2 a 3.9 : El trabajo presenta algunas explicaciones pero tienen errores.\n",
    "- 4 a 5.5 : El trabajo presenta explicaciones correctas del rendimiento de los modelos\n",
    "- 5.6 a 7 : El trabajo presenta explicaciones correctas del rendimiento de los modelos y además presenta un método para explicar las decisiones/errores\n"
   ]
  },
  {
   "cell_type": "markdown",
   "metadata": {},
   "source": [
    "## 1. Dataset"
   ]
  },
  {
   "cell_type": "code",
   "execution_count": 1,
   "metadata": {
    "scrolled": true
   },
   "outputs": [],
   "source": [
    "import sys\n",
    "#!{sys.executable} -m pip install pandasql"
   ]
  },
  {
   "cell_type": "code",
   "execution_count": 2,
   "metadata": {},
   "outputs": [
    {
     "name": "stderr",
     "output_type": "stream",
     "text": [
      "/opt/conda/lib/python3.8/site-packages/torch/cuda/__init__.py:52: UserWarning: CUDA initialization: Found no NVIDIA driver on your system. Please check that you have an NVIDIA GPU and installed a driver from http://www.nvidia.com/Download/index.aspx (Triggered internally at  /pytorch/c10/cuda/CUDAFunctions.cpp:100.)\n",
      "  return torch._C._cuda_getDeviceCount() > 0\n"
     ]
    }
   ],
   "source": [
    "import pandas as pd\n",
    "import time\n",
    "import spacy\n",
    "import seaborn as sns\n",
    "from sklearn.metrics import f1_score\n",
    "from simpletransformers.classification import ClassificationModel, ClassificationArgs"
   ]
  },
  {
   "cell_type": "code",
   "execution_count": 26,
   "metadata": {
    "scrolled": true
   },
   "outputs": [],
   "source": [
    "#!{sys.executable} -m spacy download es"
   ]
  },
  {
   "cell_type": "code",
   "execution_count": 3,
   "metadata": {},
   "outputs": [
    {
     "data": {
      "text/html": [
       "<div>\n",
       "<style scoped>\n",
       "    .dataframe tbody tr th:only-of-type {\n",
       "        vertical-align: middle;\n",
       "    }\n",
       "\n",
       "    .dataframe tbody tr th {\n",
       "        vertical-align: top;\n",
       "    }\n",
       "\n",
       "    .dataframe thead th {\n",
       "        text-align: right;\n",
       "    }\n",
       "</style>\n",
       "<table border=\"1\" class=\"dataframe\">\n",
       "  <thead>\n",
       "    <tr style=\"text-align: right;\">\n",
       "      <th></th>\n",
       "      <th>country</th>\n",
       "      <th>media_outlet</th>\n",
       "      <th>url</th>\n",
       "      <th>title</th>\n",
       "      <th>text</th>\n",
       "      <th>date</th>\n",
       "      <th>category</th>\n",
       "    </tr>\n",
       "  </thead>\n",
       "  <tbody>\n",
       "    <tr>\n",
       "      <th>0</th>\n",
       "      <td>chile</td>\n",
       "      <td>cnnchile</td>\n",
       "      <td>https://www.cnnchile.com/pais/pdta-del-colegio...</td>\n",
       "      <td>Pdta. del Colegio de Matronas explicó los ries...</td>\n",
       "      <td>La Federación de Estudiantes de la Universidad...</td>\n",
       "      <td>2018-03-29 00:00:00.000000</td>\n",
       "      <td>pais</td>\n",
       "    </tr>\n",
       "    <tr>\n",
       "      <th>1</th>\n",
       "      <td>chile</td>\n",
       "      <td>cnnchile</td>\n",
       "      <td>https://www.cnnchile.com/pais/defensoria-ninez...</td>\n",
       "      <td>Defensoría de la Niñez pide al Estado velar po...</td>\n",
       "      <td>La Defensoría de la Niñez emitió este domingo ...</td>\n",
       "      <td>2020-08-02 00:00:00.000000</td>\n",
       "      <td>pais</td>\n",
       "    </tr>\n",
       "    <tr>\n",
       "      <th>2</th>\n",
       "      <td>chile</td>\n",
       "      <td>cnnchile</td>\n",
       "      <td>https://www.cnnchile.com/pais/cuanto-les-pagar...</td>\n",
       "      <td>¿Cuánto les pagarán a los vocales de mesa?</td>\n",
       "      <td>El monto del bono es de dos tercios de Unidad ...</td>\n",
       "      <td>2016-10-20 00:00:00.000000</td>\n",
       "      <td>pais</td>\n",
       "    </tr>\n",
       "    <tr>\n",
       "      <th>3</th>\n",
       "      <td>chile</td>\n",
       "      <td>cnnchile</td>\n",
       "      <td>https://www.cnnchile.com/pais/sobrino-de-aleja...</td>\n",
       "      <td>Sobrino de Alejandro Navarro intenta “funar” e...</td>\n",
       "      <td>Una nueva polémica tiene esta carrera presiden...</td>\n",
       "      <td>2017-11-13 00:00:00.000000</td>\n",
       "      <td>pais</td>\n",
       "    </tr>\n",
       "  </tbody>\n",
       "</table>\n",
       "</div>"
      ],
      "text/plain": [
       "  country media_outlet                                                url  \\\n",
       "0   chile     cnnchile  https://www.cnnchile.com/pais/pdta-del-colegio...   \n",
       "1   chile     cnnchile  https://www.cnnchile.com/pais/defensoria-ninez...   \n",
       "2   chile     cnnchile  https://www.cnnchile.com/pais/cuanto-les-pagar...   \n",
       "3   chile     cnnchile  https://www.cnnchile.com/pais/sobrino-de-aleja...   \n",
       "\n",
       "                                               title  \\\n",
       "0  Pdta. del Colegio de Matronas explicó los ries...   \n",
       "1  Defensoría de la Niñez pide al Estado velar po...   \n",
       "2         ¿Cuánto les pagarán a los vocales de mesa?   \n",
       "3  Sobrino de Alejandro Navarro intenta “funar” e...   \n",
       "\n",
       "                                                text  \\\n",
       "0  La Federación de Estudiantes de la Universidad...   \n",
       "1  La Defensoría de la Niñez emitió este domingo ...   \n",
       "2  El monto del bono es de dos tercios de Unidad ...   \n",
       "3  Una nueva polémica tiene esta carrera presiden...   \n",
       "\n",
       "                         date category  \n",
       "0  2018-03-29 00:00:00.000000     pais  \n",
       "1  2020-08-02 00:00:00.000000     pais  \n",
       "2  2016-10-20 00:00:00.000000     pais  \n",
       "3  2017-11-13 00:00:00.000000     pais  "
      ]
     },
     "execution_count": 3,
     "metadata": {},
     "output_type": "execute_result"
    }
   ],
   "source": [
    "nlp = spacy.load(\"es\")\n",
    "\n",
    "\n",
    "df = pd.read_csv('cnnchile_7000.csv')\n",
    "df[:4]"
   ]
  },
  {
   "cell_type": "code",
   "execution_count": 4,
   "metadata": {
    "scrolled": true
   },
   "outputs": [
    {
     "data": {
      "text/html": [
       "<div>\n",
       "<style scoped>\n",
       "    .dataframe tbody tr th:only-of-type {\n",
       "        vertical-align: middle;\n",
       "    }\n",
       "\n",
       "    .dataframe tbody tr th {\n",
       "        vertical-align: top;\n",
       "    }\n",
       "\n",
       "    .dataframe thead th {\n",
       "        text-align: right;\n",
       "    }\n",
       "</style>\n",
       "<table border=\"1\" class=\"dataframe\">\n",
       "  <thead>\n",
       "    <tr style=\"text-align: right;\">\n",
       "      <th></th>\n",
       "      <th>category</th>\n",
       "      <th>count(*)</th>\n",
       "    </tr>\n",
       "  </thead>\n",
       "  <tbody>\n",
       "    <tr>\n",
       "      <th>0</th>\n",
       "      <td>tendencias</td>\n",
       "      <td>1000</td>\n",
       "    </tr>\n",
       "    <tr>\n",
       "      <th>1</th>\n",
       "      <td>tecnologias</td>\n",
       "      <td>1000</td>\n",
       "    </tr>\n",
       "    <tr>\n",
       "      <th>2</th>\n",
       "      <td>pais</td>\n",
       "      <td>1000</td>\n",
       "    </tr>\n",
       "    <tr>\n",
       "      <th>3</th>\n",
       "      <td>mundo</td>\n",
       "      <td>1000</td>\n",
       "    </tr>\n",
       "    <tr>\n",
       "      <th>4</th>\n",
       "      <td>economia</td>\n",
       "      <td>1000</td>\n",
       "    </tr>\n",
       "    <tr>\n",
       "      <th>5</th>\n",
       "      <td>deportes</td>\n",
       "      <td>1000</td>\n",
       "    </tr>\n",
       "    <tr>\n",
       "      <th>6</th>\n",
       "      <td>cultura</td>\n",
       "      <td>1000</td>\n",
       "    </tr>\n",
       "  </tbody>\n",
       "</table>\n",
       "</div>"
      ],
      "text/plain": [
       "      category  count(*)\n",
       "0   tendencias      1000\n",
       "1  tecnologias      1000\n",
       "2         pais      1000\n",
       "3        mundo      1000\n",
       "4     economia      1000\n",
       "5     deportes      1000\n",
       "6      cultura      1000"
      ]
     },
     "execution_count": 4,
     "metadata": {},
     "output_type": "execute_result"
    }
   ],
   "source": [
    "from pandasql import sqldf\n",
    "\n",
    "q=\"\"\"SELECT category, count(*) FROM df GROUP BY category ORDER BY count(*) DESC;\"\"\"\n",
    "result=sqldf(q)\n",
    "result"
   ]
  },
  {
   "cell_type": "markdown",
   "metadata": {},
   "source": [
    "### 1.1 Preprocessing Data\n",
    "\n",
    "A partir de la tabla presentada anteriormente, es necesario descartar las columnas de data/metadata asociada como el país, url, fecha y medio."
   ]
  },
  {
   "cell_type": "code",
   "execution_count": 5,
   "metadata": {},
   "outputs": [
    {
     "data": {
      "text/html": [
       "<div>\n",
       "<style scoped>\n",
       "    .dataframe tbody tr th:only-of-type {\n",
       "        vertical-align: middle;\n",
       "    }\n",
       "\n",
       "    .dataframe tbody tr th {\n",
       "        vertical-align: top;\n",
       "    }\n",
       "\n",
       "    .dataframe thead th {\n",
       "        text-align: right;\n",
       "    }\n",
       "</style>\n",
       "<table border=\"1\" class=\"dataframe\">\n",
       "  <thead>\n",
       "    <tr style=\"text-align: right;\">\n",
       "      <th></th>\n",
       "      <th>title</th>\n",
       "      <th>text</th>\n",
       "      <th>category</th>\n",
       "    </tr>\n",
       "  </thead>\n",
       "  <tbody>\n",
       "    <tr>\n",
       "      <th>0</th>\n",
       "      <td>Pdta. del Colegio de Matronas explicó los ries...</td>\n",
       "      <td>La Federación de Estudiantes de la Universidad...</td>\n",
       "      <td>pais</td>\n",
       "    </tr>\n",
       "    <tr>\n",
       "      <th>1</th>\n",
       "      <td>Defensoría de la Niñez pide al Estado velar po...</td>\n",
       "      <td>La Defensoría de la Niñez emitió este domingo ...</td>\n",
       "      <td>pais</td>\n",
       "    </tr>\n",
       "    <tr>\n",
       "      <th>2</th>\n",
       "      <td>¿Cuánto les pagarán a los vocales de mesa?</td>\n",
       "      <td>El monto del bono es de dos tercios de Unidad ...</td>\n",
       "      <td>pais</td>\n",
       "    </tr>\n",
       "    <tr>\n",
       "      <th>3</th>\n",
       "      <td>Sobrino de Alejandro Navarro intenta “funar” e...</td>\n",
       "      <td>Una nueva polémica tiene esta carrera presiden...</td>\n",
       "      <td>pais</td>\n",
       "    </tr>\n",
       "    <tr>\n",
       "      <th>4</th>\n",
       "      <td>Análisis sobre el aumento de impuestos para al...</td>\n",
       "      <td>Especialistas recomiendan no consumir más de 2...</td>\n",
       "      <td>pais</td>\n",
       "    </tr>\n",
       "  </tbody>\n",
       "</table>\n",
       "</div>"
      ],
      "text/plain": [
       "                                               title  \\\n",
       "0  Pdta. del Colegio de Matronas explicó los ries...   \n",
       "1  Defensoría de la Niñez pide al Estado velar po...   \n",
       "2         ¿Cuánto les pagarán a los vocales de mesa?   \n",
       "3  Sobrino de Alejandro Navarro intenta “funar” e...   \n",
       "4  Análisis sobre el aumento de impuestos para al...   \n",
       "\n",
       "                                                text category  \n",
       "0  La Federación de Estudiantes de la Universidad...     pais  \n",
       "1  La Defensoría de la Niñez emitió este domingo ...     pais  \n",
       "2  El monto del bono es de dos tercios de Unidad ...     pais  \n",
       "3  Una nueva polémica tiene esta carrera presiden...     pais  \n",
       "4  Especialistas recomiendan no consumir más de 2...     pais  "
      ]
     },
     "execution_count": 5,
     "metadata": {},
     "output_type": "execute_result"
    }
   ],
   "source": [
    "data=df.drop(columns=['country', 'media_outlet','url','date'])\n",
    "data[:5]"
   ]
  },
  {
   "cell_type": "markdown",
   "metadata": {},
   "source": [
    "En cambio, para aprovechar los campos de título y texto como elementos independientes de igual etiqueta, serán concatenados uno despues del otro, generando sólo 1 columna de data de entrenamiento."
   ]
  },
  {
   "cell_type": "code",
   "execution_count": 6,
   "metadata": {},
   "outputs": [],
   "source": [
    "result=data['title'].append(data['text'],ignore_index=True)"
   ]
  },
  {
   "cell_type": "code",
   "execution_count": 7,
   "metadata": {},
   "outputs": [],
   "source": [
    "result=result.to_frame(name=\"text\")"
   ]
  },
  {
   "cell_type": "code",
   "execution_count": 8,
   "metadata": {},
   "outputs": [],
   "source": [
    "result[\"category\"]=data[\"category\"].append(data[\"category\"],ignore_index=True)"
   ]
  },
  {
   "cell_type": "markdown",
   "metadata": {},
   "source": [
    "Se revisan las dimensiones y validez/existencia de datos"
   ]
  },
  {
   "cell_type": "code",
   "execution_count": 9,
   "metadata": {},
   "outputs": [
    {
     "data": {
      "text/html": [
       "<div>\n",
       "<style scoped>\n",
       "    .dataframe tbody tr th:only-of-type {\n",
       "        vertical-align: middle;\n",
       "    }\n",
       "\n",
       "    .dataframe tbody tr th {\n",
       "        vertical-align: top;\n",
       "    }\n",
       "\n",
       "    .dataframe thead th {\n",
       "        text-align: right;\n",
       "    }\n",
       "</style>\n",
       "<table border=\"1\" class=\"dataframe\">\n",
       "  <thead>\n",
       "    <tr style=\"text-align: right;\">\n",
       "      <th></th>\n",
       "      <th>text</th>\n",
       "      <th>category</th>\n",
       "    </tr>\n",
       "  </thead>\n",
       "  <tbody>\n",
       "    <tr>\n",
       "      <th>0</th>\n",
       "      <td>Pdta. del Colegio de Matronas explicó los ries...</td>\n",
       "      <td>pais</td>\n",
       "    </tr>\n",
       "    <tr>\n",
       "      <th>1</th>\n",
       "      <td>Defensoría de la Niñez pide al Estado velar po...</td>\n",
       "      <td>pais</td>\n",
       "    </tr>\n",
       "    <tr>\n",
       "      <th>2</th>\n",
       "      <td>¿Cuánto les pagarán a los vocales de mesa?</td>\n",
       "      <td>pais</td>\n",
       "    </tr>\n",
       "    <tr>\n",
       "      <th>3</th>\n",
       "      <td>Sobrino de Alejandro Navarro intenta “funar” e...</td>\n",
       "      <td>pais</td>\n",
       "    </tr>\n",
       "    <tr>\n",
       "      <th>4</th>\n",
       "      <td>Análisis sobre el aumento de impuestos para al...</td>\n",
       "      <td>pais</td>\n",
       "    </tr>\n",
       "  </tbody>\n",
       "</table>\n",
       "</div>"
      ],
      "text/plain": [
       "                                                text category\n",
       "0  Pdta. del Colegio de Matronas explicó los ries...     pais\n",
       "1  Defensoría de la Niñez pide al Estado velar po...     pais\n",
       "2         ¿Cuánto les pagarán a los vocales de mesa?     pais\n",
       "3  Sobrino de Alejandro Navarro intenta “funar” e...     pais\n",
       "4  Análisis sobre el aumento de impuestos para al...     pais"
      ]
     },
     "execution_count": 9,
     "metadata": {},
     "output_type": "execute_result"
    }
   ],
   "source": [
    "result.head()"
   ]
  },
  {
   "cell_type": "code",
   "execution_count": 10,
   "metadata": {},
   "outputs": [
    {
     "data": {
      "text/plain": [
       "(14000, 2)"
      ]
     },
     "execution_count": 10,
     "metadata": {},
     "output_type": "execute_result"
    }
   ],
   "source": [
    "result.shape"
   ]
  },
  {
   "cell_type": "code",
   "execution_count": 11,
   "metadata": {
    "scrolled": false
   },
   "outputs": [
    {
     "data": {
      "text/plain": [
       "text        1\n",
       "category    0\n",
       "dtype: int64"
      ]
     },
     "execution_count": 11,
     "metadata": {},
     "output_type": "execute_result"
    }
   ],
   "source": [
    "result.isnull().sum()"
   ]
  },
  {
   "cell_type": "markdown",
   "metadata": {},
   "source": [
    "Existe 1 campo sin información, que es necesario eliminar (la fila)."
   ]
  },
  {
   "cell_type": "code",
   "execution_count": 12,
   "metadata": {},
   "outputs": [],
   "source": [
    "result.dropna(inplace=True)"
   ]
  },
  {
   "cell_type": "code",
   "execution_count": 13,
   "metadata": {},
   "outputs": [
    {
     "name": "stdout",
     "output_type": "stream",
     "text": [
      "<class 'pandas.core.frame.DataFrame'>\n",
      "Int64Index: 13999 entries, 0 to 13999\n",
      "Data columns (total 2 columns):\n",
      " #   Column    Non-Null Count  Dtype \n",
      "---  ------    --------------  ----- \n",
      " 0   text      13999 non-null  object\n",
      " 1   category  13999 non-null  object\n",
      "dtypes: object(2)\n",
      "memory usage: 328.1+ KB\n"
     ]
    }
   ],
   "source": [
    "result.info()"
   ]
  },
  {
   "cell_type": "markdown",
   "metadata": {},
   "source": [
    "Analizamos si existe un balance en el conjunto de datos"
   ]
  },
  {
   "cell_type": "code",
   "execution_count": 14,
   "metadata": {},
   "outputs": [
    {
     "name": "stderr",
     "output_type": "stream",
     "text": [
      "/opt/conda/lib/python3.8/site-packages/seaborn/_decorators.py:36: FutureWarning: Pass the following variable as a keyword arg: x. From version 0.12, the only valid positional argument will be `data`, and passing other arguments without an explicit keyword will result in an error or misinterpretation.\n",
      "  warnings.warn(\n"
     ]
    },
    {
     "data": {
      "image/png": "[encoded data removed]",
      "text/plain": [
       "<Figure size 432x288 with 1 Axes>"
      ]
     },
     "metadata": {
      "needs_background": "light"
     },
     "output_type": "display_data"
    }
   ],
   "source": [
    "sns.countplot(result['category']);"
   ]
  },
  {
   "cell_type": "markdown",
   "metadata": {},
   "source": [
    "### 1.2 Procesamiento de features"
   ]
  },
  {
   "cell_type": "code",
   "execution_count": 15,
   "metadata": {},
   "outputs": [],
   "source": [
    "def feature_extraction(text):\n",
    "    \n",
    "    mytokens = nlp(text)\n",
    "\n",
    "    #Guardamos las palabras como características si corresponden a ciertas categorias gramaticales\n",
    "    mytokens = [ word for word in mytokens if word.pos_ in [\"NOUN\", \"ADJ\", \"VERB\"] ]\n",
    "    \n",
    "    #Transformamos las palabras en minusculas\n",
    "    mytokens = [ word.lemma_.lower().strip() for word in mytokens ]\n",
    "\n",
    "    # return preprocessed list of tokens\n",
    "    return mytokens"
   ]
  },
  {
   "cell_type": "code",
   "execution_count": 16,
   "metadata": {},
   "outputs": [],
   "source": [
    "from sklearn.feature_extraction.text import TfidfVectorizer\n",
    "\n",
    "tfidf_vector = TfidfVectorizer(tokenizer = feature_extraction, min_df=0., max_df=1.0)"
   ]
  },
  {
   "cell_type": "markdown",
   "metadata": {},
   "source": [
    "Separación de los datos entre campos de información y labels objetivo"
   ]
  },
  {
   "cell_type": "code",
   "execution_count": 17,
   "metadata": {},
   "outputs": [],
   "source": [
    "from sklearn.model_selection import train_test_split\n",
    "\n",
    "X = result['text']\n",
    "ylabels = result['category']"
   ]
  },
  {
   "cell_type": "code",
   "execution_count": 18,
   "metadata": {},
   "outputs": [],
   "source": [
    "from sklearn.preprocessing import LabelEncoder\n",
    "lb = LabelEncoder()\n",
    "ylabels_encoded = lb.fit_transform(ylabels)"
   ]
  },
  {
   "cell_type": "markdown",
   "metadata": {},
   "source": [
    "Separación de los set de entrenamiento y set de validación"
   ]
  },
  {
   "cell_type": "code",
   "execution_count": 19,
   "metadata": {},
   "outputs": [],
   "source": [
    "X_train, X_test, y_train, y_test = train_test_split(X, ylabels_encoded, test_size=0.3)"
   ]
  },
  {
   "cell_type": "code",
   "execution_count": 20,
   "metadata": {},
   "outputs": [
    {
     "data": {
      "text/plain": [
       "10725    Una insólita situación se vivió en un partido ...\n",
       "5962     Hay que ver: La criticada secuela de “El Respl...\n",
       "2870     “El Piñon” ganó en el “Premio Tanteo” en el Hi...\n",
       "9439     En una Hípica en CNN Chile te invitamos a cono...\n",
       "2328     Argentina derrotó a Bélgica y accedió a semifi...\n",
       "                               ...                        \n",
       "8300     Serán 115 los cardenales que tendrán derecho a...\n",
       "2648     Carlo de Gavardo vaticinó que Chile ganaba la ...\n",
       "9048     Este martes Colo Colo hará su debut en la Copa...\n",
       "3645     Laura Gutman explicó las bases de su metodolog...\n",
       "2814     “La Rojita” ya está en Chile tras clasificar a...\n",
       "Name: text, Length: 9799, dtype: object"
      ]
     },
     "execution_count": 20,
     "metadata": {},
     "output_type": "execute_result"
    }
   ],
   "source": [
    "X_train"
   ]
  },
  {
   "cell_type": "markdown",
   "metadata": {},
   "source": [
    "---"
   ]
  },
  {
   "cell_type": "markdown",
   "metadata": {},
   "source": [
    "### 2.0 - K vecinos más cercanos"
   ]
  },
  {
   "cell_type": "code",
   "execution_count": 119,
   "metadata": {},
   "outputs": [],
   "source": [
    "from sklearn.neighbors import neighbors\n",
    "from sklearn.pipeline import Pipeline\n",
    "#con 7: \n",
    "n_neighbors = 1 #Número de clases a priori que buscamos\n",
    "\n",
    "knn = neighbors.KNeighborsClassifier(n_neighbors)\n",
    "\n",
    "model_knn = Pipeline([('vectorizing', tfidf_vector),\n",
    "                 ('learning', knn)])"
   ]
  },
  {
   "cell_type": "code",
   "execution_count": 120,
   "metadata": {},
   "outputs": [
    {
     "name": "stdout",
     "output_type": "stream",
     "text": [
      "tiempo para entrenar:110.80668330192566\n"
     ]
    }
   ],
   "source": [
    "start = time.time()\n",
    "\n",
    "model_knn.fit(X_train, y_train)\n",
    "\n",
    "end = time.time()\n",
    "print(\"tiempo para entrenar:\" + str(end - start))"
   ]
  },
  {
   "cell_type": "code",
   "execution_count": 121,
   "metadata": {},
   "outputs": [
    {
     "name": "stdout",
     "output_type": "stream",
     "text": [
      "tiempo para predecir:47.948946475982666\n"
     ]
    }
   ],
   "source": [
    "from sklearn import metrics\n",
    "\n",
    "start = time.time()\n",
    "\n",
    "predicted_knn = model_knn.predict(X_test)\n",
    "\n",
    "end = time.time()\n",
    "print(\"tiempo para predecir:\" + str(end - start))"
   ]
  },
  {
   "cell_type": "code",
   "execution_count": 122,
   "metadata": {
    "scrolled": false
   },
   "outputs": [
    {
     "name": "stdout",
     "output_type": "stream",
     "text": [
      "[[ 64 517   1   6   0   0   7]\n",
      " [  3 531   8  15   4  17  10]\n",
      " [  1 486 110  28   6   4   3]\n",
      " [  5 489   5 101   3   3   6]\n",
      " [  0 518   7  26  49   4   3]\n",
      " [  3 449   1  15   3  76  17]\n",
      " [  7 515   4   8   1  17  44]]\n",
      "              precision    recall  f1-score   support\n",
      "\n",
      "           0       0.77      0.11      0.19       595\n",
      "           1       0.15      0.90      0.26       588\n",
      "           2       0.81      0.17      0.28       638\n",
      "           3       0.51      0.17      0.25       612\n",
      "           4       0.74      0.08      0.15       607\n",
      "           5       0.63      0.13      0.22       564\n",
      "           6       0.49      0.07      0.13       596\n",
      "\n",
      "    accuracy                           0.23      4200\n",
      "   macro avg       0.59      0.23      0.21      4200\n",
      "weighted avg       0.59      0.23      0.21      4200\n",
      "\n"
     ]
    }
   ],
   "source": [
    "from sklearn.metrics import confusion_matrix\n",
    "from sklearn.metrics import classification_report\n",
    "\n",
    "confusion_matrix = confusion_matrix(y_test, predicted_knn)\n",
    "\n",
    "print(confusion_matrix)\n",
    "\n",
    "print(classification_report(y_test, predicted_knn))"
   ]
  },
  {
   "cell_type": "markdown",
   "metadata": {},
   "source": [
    "Con un mal rendimiento este modelo será dejado de lado por ahora pero analizado en la etapa final.\n",
    "Dicho esto, procederemos con 4 otros modelos de diversa dificultad para testear su clasificación."
   ]
  },
  {
   "cell_type": "markdown",
   "metadata": {},
   "source": [
    "### 2.1 - Árbol de decisión"
   ]
  },
  {
   "cell_type": "code",
   "execution_count": 36,
   "metadata": {},
   "outputs": [],
   "source": [
    "from sklearn import tree\n",
    "\n",
    "my_tree = tree.DecisionTreeClassifier()\n",
    "\n",
    "model_tree = Pipeline([('vectorizing', tfidf_vector),\n",
    "                 ('learning', my_tree)])"
   ]
  },
  {
   "cell_type": "code",
   "execution_count": 37,
   "metadata": {},
   "outputs": [
    {
     "name": "stdout",
     "output_type": "stream",
     "text": [
      "tiempo para entrenar:115.98631978034973\n"
     ]
    }
   ],
   "source": [
    "start = time.time()\n",
    "\n",
    "model_tree.fit(X_train, y_train)\n",
    "\n",
    "end = time.time()\n",
    "print(\"tiempo para entrenar:\" + str(end - start))"
   ]
  },
  {
   "cell_type": "code",
   "execution_count": 52,
   "metadata": {},
   "outputs": [
    {
     "name": "stdout",
     "output_type": "stream",
     "text": [
      "tiempo para predecir:49.054983139038086\n"
     ]
    }
   ],
   "source": [
    "start = time.time()\n",
    "\n",
    "predicted_dt = model_tree.predict(X_test)\n",
    "\n",
    "end = time.time()\n",
    "print(\"tiempo para predecir:\" + str(end - start))"
   ]
  },
  {
   "cell_type": "code",
   "execution_count": 53,
   "metadata": {
    "scrolled": false
   },
   "outputs": [
    {
     "name": "stdout",
     "output_type": "stream",
     "text": [
      "[[361  29   7  46  39  30  83]\n",
      " [ 28 374  20  26  27  32  81]\n",
      " [ 11  24 390  44  76  39  54]\n",
      " [ 38  46  57 269  83  37  82]\n",
      " [ 30  28  77  96 262  36  78]\n",
      " [ 28  48  50  35  30 256 117]\n",
      " [ 68  63  30  36  66  98 235]]\n",
      "              precision    recall  f1-score   support\n",
      "\n",
      "           0       0.64      0.61      0.62       595\n",
      "           1       0.61      0.64      0.62       588\n",
      "           2       0.62      0.61      0.61       638\n",
      "           3       0.49      0.44      0.46       612\n",
      "           4       0.45      0.43      0.44       607\n",
      "           5       0.48      0.45      0.47       564\n",
      "           6       0.32      0.39      0.35       596\n",
      "\n",
      "    accuracy                           0.51      4200\n",
      "   macro avg       0.52      0.51      0.51      4200\n",
      "weighted avg       0.52      0.51      0.51      4200\n",
      "\n"
     ]
    }
   ],
   "source": [
    "confusion_matrix = metrics.confusion_matrix(y_test, predicted_dt)\n",
    "\n",
    "print(confusion_matrix)\n",
    "\n",
    "print(classification_report(y_test, predicted_dt))"
   ]
  },
  {
   "cell_type": "code",
   "execution_count": 54,
   "metadata": {},
   "outputs": [
    {
     "name": "stdout",
     "output_type": "stream",
     "text": [
      "|--- artista <= 0.01\n",
      "|   |--- económico <= 0.06\n",
      "|   |   |--- gol <= 0.03\n",
      "|   |   |   |--- aplicación <= 0.02\n",
      "|   |   |   |   |--- jugador <= 0.04\n",
      "|   |   |   |   |   |--- película <= 0.01\n",
      "|   |   |   |   |   |   |--- presidente <= 0.02\n",
      "|   |   |   |   |   |   |   |--- tecnología <= 0.03\n",
      "|   |   |   |   |   |   |   |   |--- canción <= 0.01\n",
      "|   |   |   |   |   |   |   |   |   |--- video <= 0.08\n",
      "|   |   |   |   |   |   |   |   |   |   |--- alzar <= 0.04\n",
      "|   |   |   |   |   |   |   |   |   |   |   |--- truncated branch of depth 960\n",
      "|   |   |   |   |   |   |   |   |   |   |--- alzar >  0.04\n",
      "|   |   |   |   |   |   |   |   |   |   |   |--- truncated branch of depth 11\n",
      "|   |   |   |   |   |   |   |   |   |--- video >  0.08\n",
      "|   |   |   |   |   |   |   |   |   |   |--- adjuntar <= 0.05\n",
      "|   |   |   |   |   |   |   |   |   |   |   |--- truncated branch of depth 37\n",
      "|   |   |   |   |   |   |   |   |   |   |--- adjuntar >  0.05\n",
      "|   |   |   |   |   |   |   |   |   |   |   |--- truncated branch of depth 24\n",
      "|   |   |   |   |   |   |   |   |--- canción >  0.01\n",
      "|   |   |   |   |   |   |   |   |   |--- sorprender <= 0.11\n",
      "|   |   |   |   |   |   |   |   |   |   |--- navidad <= 0.10\n",
      "|   |   |   |   |   |   |   |   |   |   |   |--- truncated branch of depth 17\n",
      "|   |   |   |   |   |   |   |   |   |   |--- navidad >  0.10\n",
      "|   |   |   |   |   |   |   |   |   |   |   |--- class: 5\n",
      "|   |   |   |   |   |   |   |   |   |--- sorprender >  0.11\n",
      "|   |   |   |   |   |   |   |   |   |   |--- millón <= 0.05\n",
      "|   |   |   |   |   |   |   |   |   |   |   |--- truncated branch of depth 2\n",
      "|   |   |   |   |   |   |   |   |   |   |--- millón >  0.05\n",
      "|   |   |   |   |   |   |   |   |   |   |   |--- truncated branch of depth 2\n",
      "|   |   |   |   |   |   |   |--- tecnología >  0.03\n",
      "|   |   |   |   |   |   |   |   |--- millón <= 0.10\n",
      "|   |   |   |   |   |   |   |   |   |--- pasar <= 0.10\n",
      "|   |   |   |   |   |   |   |   |   |   |--- estrenar <= 0.06\n",
      "|   |   |   |   |   |   |   |   |   |   |   |--- truncated branch of depth 18\n",
      "|   |   |   |   |   |   |   |   |   |   |--- estrenar >  0.06\n",
      "|   |   |   |   |   |   |   |   |   |   |   |--- class: 0\n",
      "|   |   |   |   |   |   |   |   |   |--- pasar >  0.10\n",
      "|   |   |   |   |   |   |   |   |   |   |--- class: 6\n",
      "|   |   |   |   |   |   |   |   |--- millón >  0.10\n",
      "|   |   |   |   |   |   |   |   |   |--- canal <= 0.08\n",
      "|   |   |   |   |   |   |   |   |   |   |--- class: 2\n",
      "|   |   |   |   |   |   |   |   |   |--- canal >  0.08\n",
      "|   |   |   |   |   |   |   |   |   |   |--- class: 6\n",
      "|   |   |   |   |   |   |--- presidente >  0.02\n",
      "|   |   |   |   |   |   |   |--- trump <= 0.02\n",
      "|   |   |   |   |   |   |   |   |--- = <= 0.06\n",
      "|   |   |   |   |   |   |   |   |   |--- empresa <= 0.08\n",
      "|   |   |   |   |   |   |   |   |   |   |--- diputar <= 0.05\n",
      "|   |   |   |   |   |   |   |   |   |   |   |--- truncated branch of depth 41\n",
      "|   |   |   |   |   |   |   |   |   |   |--- diputar >  0.05\n",
      "|   |   |   |   |   |   |   |   |   |   |   |--- truncated branch of depth 5\n",
      "|   |   |   |   |   |   |   |   |   |--- empresa >  0.08\n",
      "|   |   |   |   |   |   |   |   |   |   |--- aclarar <= 0.03\n",
      "|   |   |   |   |   |   |   |   |   |   |   |--- truncated branch of depth 4\n",
      "|   |   |   |   |   |   |   |   |   |   |--- aclarar >  0.03\n",
      "|   |   |   |   |   |   |   |   |   |   |   |--- truncated branch of depth 3\n",
      "|   |   |   |   |   |   |   |   |--- = >  0.06\n",
      "|   |   |   |   |   |   |   |   |   |--- fútbol <= 0.05\n",
      "|   |   |   |   |   |   |   |   |   |   |--- cortar <= 0.04\n",
      "|   |   |   |   |   |   |   |   |   |   |   |--- truncated branch of depth 4\n",
      "|   |   |   |   |   |   |   |   |   |   |--- cortar >  0.04\n",
      "|   |   |   |   |   |   |   |   |   |   |   |--- truncated branch of depth 3\n",
      "|   |   |   |   |   |   |   |   |   |--- fútbol >  0.05\n",
      "|   |   |   |   |   |   |   |   |   |   |--- conocer <= 0.08\n",
      "|   |   |   |   |   |   |   |   |   |   |   |--- class: 1\n",
      "|   |   |   |   |   |   |   |   |   |   |--- conocer >  0.08\n",
      "|   |   |   |   |   |   |   |   |   |   |   |--- class: 5\n",
      "|   |   |   |   |   |   |   |--- trump >  0.02\n",
      "|   |   |   |   |   |   |   |   |--- financiero <= 0.06\n",
      "|   |   |   |   |   |   |   |   |   |--- formar <= 0.04\n",
      "|   |   |   |   |   |   |   |   |   |   |--- creador <= 0.04\n",
      "|   |   |   |   |   |   |   |   |   |   |   |--- truncated branch of depth 3\n",
      "|   |   |   |   |   |   |   |   |   |   |--- creador >  0.04\n",
      "|   |   |   |   |   |   |   |   |   |   |   |--- class: 0\n",
      "|   |   |   |   |   |   |   |   |   |--- formar >  0.04\n",
      "|   |   |   |   |   |   |   |   |   |   |--- class: 6\n",
      "|   |   |   |   |   |   |   |   |--- financiero >  0.06\n",
      "|   |   |   |   |   |   |   |   |   |--- class: 2\n",
      "|   |   |   |   |   |--- película >  0.01\n",
      "|   |   |   |   |   |   |--- video <= 0.08\n",
      "|   |   |   |   |   |   |   |--- blocar <= 0.03\n",
      "|   |   |   |   |   |   |   |   |--- star <= 0.12\n",
      "|   |   |   |   |   |   |   |   |   |--- hora <= 0.11\n",
      "|   |   |   |   |   |   |   |   |   |   |--- teléfono <= 0.10\n",
      "|   |   |   |   |   |   |   |   |   |   |   |--- truncated branch of depth 20\n",
      "|   |   |   |   |   |   |   |   |   |   |--- teléfono >  0.10\n",
      "|   |   |   |   |   |   |   |   |   |   |   |--- class: 5\n",
      "|   |   |   |   |   |   |   |   |   |--- hora >  0.11\n",
      "|   |   |   |   |   |   |   |   |   |   |--- estar <= 0.02\n",
      "|   |   |   |   |   |   |   |   |   |   |   |--- truncated branch of depth 2\n",
      "|   |   |   |   |   |   |   |   |   |   |--- estar >  0.02\n",
      "|   |   |   |   |   |   |   |   |   |   |   |--- class: 5\n",
      "|   |   |   |   |   |   |   |   |--- star >  0.12\n",
      "|   |   |   |   |   |   |   |   |   |--- película <= 0.10\n",
      "|   |   |   |   |   |   |   |   |   |   |--- class: 5\n",
      "|   |   |   |   |   |   |   |   |   |--- película >  0.10\n",
      "|   |   |   |   |   |   |   |   |   |   |--- gama <= 0.06\n",
      "|   |   |   |   |   |   |   |   |   |   |   |--- truncated branch of depth 2\n",
      "|   |   |   |   |   |   |   |   |   |   |--- gama >  0.06\n",
      "|   |   |   |   |   |   |   |   |   |   |   |--- class: 5\n",
      "|   |   |   |   |   |   |   |--- blocar >  0.03\n",
      "|   |   |   |   |   |   |   |   |--- class: 5\n",
      "|   |   |   |   |   |   |--- video >  0.08\n",
      "|   |   |   |   |   |   |   |--- chico <= 0.07\n",
      "|   |   |   |   |   |   |   |   |--- asesinar <= 0.12\n",
      "|   |   |   |   |   |   |   |   |   |--- class: 6\n",
      "|   |   |   |   |   |   |   |   |--- asesinar >  0.12\n",
      "|   |   |   |   |   |   |   |   |   |--- class: 0\n",
      "|   |   |   |   |   |   |   |--- chico >  0.07\n",
      "|   |   |   |   |   |   |   |   |--- class: 5\n",
      "|   |   |   |   |--- jugador >  0.04\n",
      "|   |   |   |   |   |--- videojuego <= 0.01\n",
      "|   |   |   |   |   |   |--- video <= 0.05\n",
      "|   |   |   |   |   |   |   |--- herramienta <= 0.02\n",
      "|   |   |   |   |   |   |   |   |--- blocar <= 0.04\n",
      "|   |   |   |   |   |   |   |   |   |--- compañía <= 0.04\n",
      "|   |   |   |   |   |   |   |   |   |   |--- experiencia <= 0.10\n",
      "|   |   |   |   |   |   |   |   |   |   |   |--- truncated branch of depth 14\n",
      "|   |   |   |   |   |   |   |   |   |   |--- experiencia >  0.10\n",
      "|   |   |   |   |   |   |   |   |   |   |   |--- class: 5\n",
      "|   |   |   |   |   |   |   |   |   |--- compañía >  0.04\n",
      "|   |   |   |   |   |   |   |   |   |   |--- estar <= 0.03\n",
      "|   |   |   |   |   |   |   |   |   |   |   |--- class: 6\n",
      "|   |   |   |   |   |   |   |   |   |   |--- estar >  0.03\n",
      "|   |   |   |   |   |   |   |   |   |   |   |--- class: 5\n",
      "|   |   |   |   |   |   |   |   |--- blocar >  0.04\n",
      "|   |   |   |   |   |   |   |   |   |--- class: 6\n",
      "|   |   |   |   |   |   |   |--- herramienta >  0.02\n",
      "|   |   |   |   |   |   |   |   |--- class: 5\n",
      "|   |   |   |   |   |   |--- video >  0.05\n",
      "|   |   |   |   |   |   |   |--- decir <= 0.04\n",
      "|   |   |   |   |   |   |   |   |--- ver <= 0.03\n",
      "|   |   |   |   |   |   |   |   |   |--- ser <= 0.03\n",
      "|   |   |   |   |   |   |   |   |   |   |--- dispositivo <= 0.05\n",
      "|   |   |   |   |   |   |   |   |   |   |   |--- truncated branch of depth 3\n",
      "|   |   |   |   |   |   |   |   |   |   |--- dispositivo >  0.05\n",
      "|   |   |   |   |   |   |   |   |   |   |   |--- class: 5\n",
      "|   |   |   |   |   |   |   |   |   |--- ser >  0.03\n",
      "|   |   |   |   |   |   |   |   |   |   |--- class: 6\n",
      "|   |   |   |   |   |   |   |   |--- ver >  0.03\n",
      "|   |   |   |   |   |   |   |   |   |--- ' <= 0.08\n",
      "|   |   |   |   |   |   |   |   |   |   |--- class: 5\n",
      "|   |   |   |   |   |   |   |   |   |--- ' >  0.08\n",
      "|   |   |   |   |   |   |   |   |   |   |--- class: 6\n",
      "|   |   |   |   |   |   |   |--- decir >  0.04\n",
      "|   |   |   |   |   |   |   |   |--- class: 1\n",
      "|   |   |   |   |   |--- videojuego >  0.01\n",
      "|   |   |   |   |   |   |--- basar <= 0.02\n",
      "|   |   |   |   |   |   |   |--- class: 5\n",
      "|   |   |   |   |   |   |--- basar >  0.02\n",
      "|   |   |   |   |   |   |   |--- marzo <= 0.02\n",
      "|   |   |   |   |   |   |   |   |--- class: 0\n",
      "|   |   |   |   |   |   |   |--- marzo >  0.02\n",
      "|   |   |   |   |   |   |   |   |--- class: 4\n",
      "|   |   |   |--- aplicación >  0.02\n",
      "|   |   |   |   |--- blocar <= 0.04\n",
      "|   |   |   |   |   |--- ministro <= 0.02\n",
      "|   |   |   |   |   |   |--- ilegal <= 0.03\n",
      "|   |   |   |   |   |   |   |--- invitar <= 0.07\n",
      "|   |   |   |   |   |   |   |   |--- memoria <= 0.03\n",
      "|   |   |   |   |   |   |   |   |   |--- preocupar <= 0.06\n",
      "|   |   |   |   |   |   |   |   |   |   |--- dato <= 0.29\n",
      "|   |   |   |   |   |   |   |   |   |   |   |--- truncated branch of depth 12\n",
      "|   |   |   |   |   |   |   |   |   |   |--- dato >  0.29\n",
      "|   |   |   |   |   |   |   |   |   |   |   |--- class: 6\n",
      "|   |   |   |   |   |   |   |   |   |--- preocupar >  0.06\n",
      "|   |   |   |   |   |   |   |   |   |   |--- class: 6\n",
      "|   |   |   |   |   |   |   |   |--- memoria >  0.03\n",
      "|   |   |   |   |   |   |   |   |   |--- ” <= 0.01\n",
      "|   |   |   |   |   |   |   |   |   |   |--- class: 5\n",
      "|   |   |   |   |   |   |   |   |   |--- ” >  0.01\n",
      "|   |   |   |   |   |   |   |   |   |   |--- class: 6\n",
      "|   |   |   |   |   |   |   |--- invitar >  0.07\n",
      "|   |   |   |   |   |   |   |   |--- detonar <= 0.08\n",
      "|   |   |   |   |   |   |   |   |   |--- class: 0\n",
      "|   |   |   |   |   |   |   |   |--- detonar >  0.08\n",
      "|   |   |   |   |   |   |   |   |   |--- class: 4\n",
      "|   |   |   |   |   |   |--- ilegal >  0.03\n",
      "|   |   |   |   |   |   |   |--- registrar <= 0.02\n",
      "|   |   |   |   |   |   |   |   |--- “ <= 0.04\n",
      "|   |   |   |   |   |   |   |   |   |--- class: 4\n",
      "|   |   |   |   |   |   |   |   |--- “ >  0.04\n",
      "|   |   |   |   |   |   |   |   |   |--- class: 6\n",
      "|   |   |   |   |   |   |   |--- registrar >  0.02\n",
      "|   |   |   |   |   |   |   |   |--- class: 3\n",
      "|   |   |   |   |   |--- ministro >  0.02\n",
      "|   |   |   |   |   |   |--- alzar <= 0.04\n",
      "|   |   |   |   |   |   |   |--- class: 4\n",
      "|   |   |   |   |   |   |--- alzar >  0.04\n",
      "|   |   |   |   |   |   |   |--- class: 2\n",
      "|   |   |   |   |--- blocar >  0.04\n",
      "|   |   |   |   |   |--- tecnología <= 0.04\n",
      "|   |   |   |   |   |   |--- disponible <= 0.10\n",
      "|   |   |   |   |   |   |   |--- class: 6\n",
      "|   |   |   |   |   |   |--- disponible >  0.10\n",
      "|   |   |   |   |   |   |   |--- nuevo <= 0.03\n",
      "|   |   |   |   |   |   |   |   |--- class: 5\n",
      "|   |   |   |   |   |   |   |--- nuevo >  0.03\n",
      "|   |   |   |   |   |   |   |   |--- class: 6\n",
      "|   |   |   |   |   |--- tecnología >  0.04\n",
      "|   |   |   |   |   |   |--- class: 5\n",
      "|   |   |--- gol >  0.03\n",
      "|   |   |   |--- celebrar <= 0.11\n",
      "|   |   |   |   |--- contar <= 0.15\n",
      "|   |   |   |   |   |--- futsal <= 0.28\n",
      "|   |   |   |   |   |   |--- class: 1\n",
      "|   |   |   |   |   |--- futsal >  0.28\n",
      "|   |   |   |   |   |   |--- class: 6\n",
      "|   |   |   |   |--- contar >  0.15\n",
      "|   |   |   |   |   |--- class: 6\n",
      "|   |   |   |--- celebrar >  0.11\n",
      "|   |   |   |   |--- título <= 0.11\n",
      "|   |   |   |   |   |--- ser <= 0.02\n",
      "|   |   |   |   |   |   |--- 1996 <= 0.10\n",
      "|   |   |   |   |   |   |   |--- class: 1\n",
      "|   |   |   |   |   |   |--- 1996 >  0.10\n",
      "|   |   |   |   |   |   |   |--- class: 5\n",
      "|   |   |   |   |   |--- ser >  0.02\n",
      "|   |   |   |   |   |   |--- class: 6\n",
      "|   |   |   |   |--- título >  0.11\n",
      "|   |   |   |   |   |--- class: 1\n",
      "|   |--- económico >  0.06\n",
      "|   |   |--- = <= 0.07\n",
      "|   |   |   |--- detener <= 0.02\n",
      "|   |   |   |   |--- crisis <= 0.11\n",
      "|   |   |   |   |   |--- poner <= 0.08\n",
      "|   |   |   |   |   |   |--- posición <= 0.04\n",
      "|   |   |   |   |   |   |   |--- sábado <= 0.03\n",
      "|   |   |   |   |   |   |   |   |--- vuelo <= 0.05\n",
      "|   |   |   |   |   |   |   |   |   |--- apoyar <= 0.05\n",
      "|   |   |   |   |   |   |   |   |   |   |--- coronavirus <= 0.08\n",
      "|   |   |   |   |   |   |   |   |   |   |   |--- truncated branch of depth 17\n",
      "|   |   |   |   |   |   |   |   |   |   |--- coronavirus >  0.08\n",
      "|   |   |   |   |   |   |   |   |   |   |   |--- truncated branch of depth 3\n",
      "|   |   |   |   |   |   |   |   |   |--- apoyar >  0.05\n",
      "|   |   |   |   |   |   |   |   |   |   |--- manifestar <= 0.04\n",
      "|   |   |   |   |   |   |   |   |   |   |   |--- truncated branch of depth 4\n",
      "|   |   |   |   |   |   |   |   |   |   |--- manifestar >  0.04\n",
      "|   |   |   |   |   |   |   |   |   |   |   |--- class: 4\n",
      "|   |   |   |   |   |   |   |   |--- vuelo >  0.05\n",
      "|   |   |   |   |   |   |   |   |   |--- internacionalmente <= 0.10\n",
      "|   |   |   |   |   |   |   |   |   |   |--- class: 6\n",
      "|   |   |   |   |   |   |   |   |   |--- internacionalmente >  0.10\n",
      "|   |   |   |   |   |   |   |   |   |   |--- class: 5\n",
      "|   |   |   |   |   |   |   |--- sábado >  0.03\n",
      "|   |   |   |   |   |   |   |   |--- class: 4\n",
      "|   |   |   |   |   |   |--- posición >  0.04\n",
      "|   |   |   |   |   |   |   |--- año <= 0.04\n",
      "|   |   |   |   |   |   |   |   |--- class: 4\n",
      "|   |   |   |   |   |   |   |--- año >  0.04\n",
      "|   |   |   |   |   |   |   |   |--- salir <= 0.10\n",
      "|   |   |   |   |   |   |   |   |   |--- class: 1\n",
      "|   |   |   |   |   |   |   |   |--- salir >  0.10\n",
      "|   |   |   |   |   |   |   |   |   |--- class: 5\n",
      "|   |   |   |   |   |--- poner >  0.08\n",
      "|   |   |   |   |   |   |--- declaración <= 0.05\n",
      "|   |   |   |   |   |   |   |--- class: 4\n",
      "|   |   |   |   |   |   |--- declaración >  0.05\n",
      "|   |   |   |   |   |   |   |--- class: 3\n",
      "|   |   |   |   |--- crisis >  0.11\n",
      "|   |   |   |   |   |--- realizar <= 0.02\n",
      "|   |   |   |   |   |   |--- económico <= 0.29\n",
      "|   |   |   |   |   |   |   |--- rechazar <= 0.04\n",
      "|   |   |   |   |   |   |   |   |--- económico <= 0.24\n",
      "|   |   |   |   |   |   |   |   |   |--- class: 2\n",
      "|   |   |   |   |   |   |   |   |--- económico >  0.24\n",
      "|   |   |   |   |   |   |   |   |   |--- class: 0\n",
      "|   |   |   |   |   |   |   |--- rechazar >  0.04\n",
      "|   |   |   |   |   |   |   |   |--- class: 3\n",
      "|   |   |   |   |   |   |--- económico >  0.29\n",
      "|   |   |   |   |   |   |   |--- class: 3\n",
      "|   |   |   |   |   |--- realizar >  0.02\n",
      "|   |   |   |   |   |   |--- class: 3\n",
      "|   |   |   |--- detener >  0.02\n",
      "|   |   |   |   |--- reformar <= 0.22\n",
      "|   |   |   |   |   |--- class: 3\n",
      "|   |   |   |   |--- reformar >  0.22\n",
      "|   |   |   |   |   |--- class: 4\n",
      "|   |   |--- = >  0.07\n",
      "|   |   |   |--- adelantar <= 0.04\n",
      "|   |   |   |   |--- jugar <= 0.04\n",
      "|   |   |   |   |   |--- temor <= 0.10\n",
      "|   |   |   |   |   |   |--- centrar <= 0.06\n",
      "|   |   |   |   |   |   |   |--- infraestructura <= 0.06\n",
      "|   |   |   |   |   |   |   |   |--- class: 3\n",
      "|   |   |   |   |   |   |   |--- infraestructura >  0.06\n",
      "|   |   |   |   |   |   |   |   |--- class: 1\n",
      "|   |   |   |   |   |   |--- centrar >  0.06\n",
      "|   |   |   |   |   |   |   |--- último <= 0.04\n",
      "|   |   |   |   |   |   |   |   |--- class: 4\n",
      "|   |   |   |   |   |   |   |--- último >  0.04\n",
      "|   |   |   |   |   |   |   |   |--- class: 2\n",
      "|   |   |   |   |   |--- temor >  0.10\n",
      "|   |   |   |   |   |   |--- class: 2\n",
      "|   |   |   |   |--- jugar >  0.04\n",
      "|   |   |   |   |   |--- class: 2\n",
      "|   |   |   |--- adelantar >  0.04\n",
      "|   |   |   |   |--- class: 5\n",
      "|--- artista >  0.01\n",
      "|   |--- adjuntar <= 0.06\n",
      "|   |   |--- playlist <= 0.12\n",
      "|   |   |   |--- diseñar <= 0.09\n",
      "|   |   |   |   |--- var <= 0.03\n",
      "|   |   |   |   |   |--- nombrar <= 0.11\n",
      "|   |   |   |   |   |   |--- red <= 0.12\n",
      "|   |   |   |   |   |   |   |--- indicar <= 0.10\n",
      "|   |   |   |   |   |   |   |   |--- 2009 <= 0.04\n",
      "|   |   |   |   |   |   |   |   |   |--- vicepresidente <= 0.02\n",
      "|   |   |   |   |   |   |   |   |   |   |--- antiguo <= 0.13\n",
      "|   |   |   |   |   |   |   |   |   |   |   |--- truncated branch of depth 16\n",
      "|   |   |   |   |   |   |   |   |   |   |--- antiguo >  0.13\n",
      "|   |   |   |   |   |   |   |   |   |   |   |--- class: 6\n",
      "|   |   |   |   |   |   |   |   |   |--- vicepresidente >  0.02\n",
      "|   |   |   |   |   |   |   |   |   |   |--- class: 6\n",
      "|   |   |   |   |   |   |   |   |--- 2009 >  0.04\n",
      "|   |   |   |   |   |   |   |   |   |--- nacer <= 0.02\n",
      "|   |   |   |   |   |   |   |   |   |   |--- class: 6\n",
      "|   |   |   |   |   |   |   |   |   |--- nacer >  0.02\n",
      "|   |   |   |   |   |   |   |   |   |   |--- class: 0\n",
      "|   |   |   |   |   |   |   |--- indicar >  0.10\n",
      "|   |   |   |   |   |   |   |   |--- class: 4\n",
      "|   |   |   |   |   |   |--- red >  0.12\n",
      "|   |   |   |   |   |   |   |--- presentar <= 0.11\n",
      "|   |   |   |   |   |   |   |   |--- class: 6\n",
      "|   |   |   |   |   |   |   |--- presentar >  0.11\n",
      "|   |   |   |   |   |   |   |   |--- class: 5\n",
      "|   |   |   |   |   |--- nombrar >  0.11\n",
      "|   |   |   |   |   |   |--- animación <= 0.03\n",
      "|   |   |   |   |   |   |   |--- class: 5\n",
      "|   |   |   |   |   |   |--- animación >  0.03\n",
      "|   |   |   |   |   |   |   |--- class: 6\n",
      "|   |   |   |   |--- var >  0.03\n",
      "|   |   |   |   |   |--- show <= 0.04\n",
      "|   |   |   |   |   |   |--- class: 6\n",
      "|   |   |   |   |   |--- show >  0.04\n",
      "|   |   |   |   |   |   |--- deportivo <= 0.11\n",
      "|   |   |   |   |   |   |   |--- class: 3\n",
      "|   |   |   |   |   |   |--- deportivo >  0.11\n",
      "|   |   |   |   |   |   |   |--- class: 1\n",
      "|   |   |   |--- diseñar >  0.09\n",
      "|   |   |   |   |--- class: 6\n",
      "|   |   |--- playlist >  0.12\n",
      "|   |   |   |--- class: 6\n",
      "|   |--- adjuntar >  0.06\n",
      "|   |   |--- hacer <= 0.03\n",
      "|   |   |   |--- brindar <= 0.07\n",
      "|   |   |   |   |--- class: 6\n",
      "|   |   |   |--- brindar >  0.07\n",
      "|   |   |   |   |--- class: 5\n",
      "|   |   |--- hacer >  0.03\n",
      "|   |   |   |--- class: 5\n",
      "\n"
     ]
    }
   ],
   "source": [
    "txt_representation = tree.export_text(my_tree, feature_names=tfidf_vector.get_feature_names(), max_depth=10)\n",
    "print(txt_representation)"
   ]
  },
  {
   "cell_type": "markdown",
   "metadata": {},
   "source": [
    "### 2.2 - Gradient Boosting Classifier"
   ]
  },
  {
   "cell_type": "code",
   "execution_count": 90,
   "metadata": {},
   "outputs": [],
   "source": [
    "from sklearn.ensemble import GradientBoostingClassifier\n",
    "clf = GradientBoostingClassifier(n_estimators=100, learning_rate=0.4,\n",
    "                                 max_depth=7, random_state=0)\n",
    "model_GBC = Pipeline([('vectorizing', tfidf_vector),\n",
    "                 ('learning', clf)])"
   ]
  },
  {
   "cell_type": "code",
   "execution_count": 91,
   "metadata": {},
   "outputs": [
    {
     "name": "stdout",
     "output_type": "stream",
     "text": [
      "tiempo para entrenar:218.84854459762573\n"
     ]
    }
   ],
   "source": [
    "start = time.time()\n",
    "\n",
    "model_GBC.fit(X_train, y_train)\n",
    "\n",
    "end = time.time()\n",
    "print(\"tiempo para entrenar:\" + str(end - start))"
   ]
  },
  {
   "cell_type": "code",
   "execution_count": 92,
   "metadata": {},
   "outputs": [
    {
     "name": "stdout",
     "output_type": "stream",
     "text": [
      "tiempo para predecir:47.44646668434143\n"
     ]
    }
   ],
   "source": [
    "start = time.time()\n",
    "\n",
    "predicted_GBC = model_GBC.predict(X_test)\n",
    "\n",
    "end = time.time()\n",
    "print(\"tiempo para predecir:\" + str(end - start))"
   ]
  },
  {
   "cell_type": "code",
   "execution_count": 94,
   "metadata": {},
   "outputs": [
    {
     "name": "stdout",
     "output_type": "stream",
     "text": [
      "[[416   9   6  29  43  12  80]\n",
      " [ 11 422  15  24  23  17  76]\n",
      " [  5  13 449  36  58  26  51]\n",
      " [ 22  22  38 346  75  23  86]\n",
      " [ 16  17  57  88 328  24  77]\n",
      " [ 24  29  28  19  28 317 119]\n",
      " [ 52  38  13  48  29  72 344]]\n",
      "              precision    recall  f1-score   support\n",
      "\n",
      "           0       0.76      0.70      0.73       595\n",
      "           1       0.77      0.72      0.74       588\n",
      "           2       0.74      0.70      0.72       638\n",
      "           3       0.59      0.57      0.58       612\n",
      "           4       0.56      0.54      0.55       607\n",
      "           5       0.65      0.56      0.60       564\n",
      "           6       0.41      0.58      0.48       596\n",
      "\n",
      "    accuracy                           0.62      4200\n",
      "   macro avg       0.64      0.62      0.63      4200\n",
      "weighted avg       0.64      0.62      0.63      4200\n",
      "\n"
     ]
    }
   ],
   "source": [
    "confusion_matrix = metrics.confusion_matrix(y_test, predicted_GBC)\n",
    "\n",
    "print(confusion_matrix)\n",
    "\n",
    "print(classification_report(y_test, predicted_GBC))"
   ]
  },
  {
   "cell_type": "markdown",
   "metadata": {},
   "source": [
    "### 2.3 - Naïve Bayes"
   ]
  },
  {
   "cell_type": "code",
   "execution_count": 31,
   "metadata": {},
   "outputs": [],
   "source": [
    "from sklearn.naive_bayes import MultinomialNB\n",
    "\n",
    "nb = MultinomialNB()\n",
    "\n",
    "model_nb = Pipeline([('vectorizing', tfidf_vector),\n",
    "                 ('learning', nb)])"
   ]
  },
  {
   "cell_type": "code",
   "execution_count": 32,
   "metadata": {},
   "outputs": [
    {
     "name": "stdout",
     "output_type": "stream",
     "text": [
      "tiempo para entrenar:112.64363527297974\n"
     ]
    }
   ],
   "source": [
    "start = time.time()\n",
    "\n",
    "model_nb.fit(X_train, y_train)\n",
    "\n",
    "end = time.time()\n",
    "print(\"tiempo para entrenar:\" + str(end - start))"
   ]
  },
  {
   "cell_type": "code",
   "execution_count": 46,
   "metadata": {},
   "outputs": [
    {
     "name": "stdout",
     "output_type": "stream",
     "text": [
      "tiempo para predecir:47.97105360031128\n"
     ]
    }
   ],
   "source": [
    "start = time.time()\n",
    "\n",
    "predicted_nb = model_nb.predict(X_test)\n",
    "\n",
    "end = time.time()\n",
    "print(\"tiempo para predecir:\" + str(end - start))"
   ]
  },
  {
   "cell_type": "code",
   "execution_count": 50,
   "metadata": {
    "scrolled": false
   },
   "outputs": [
    {
     "name": "stdout",
     "output_type": "stream",
     "text": [
      "[[547   3   4  11  13   5  12]\n",
      " [ 29 481  18  11  14  11  24]\n",
      " [  7   1 544  18  34  31   3]\n",
      " [ 32  13  48 411  64  26  18]\n",
      " [ 21   9  63  63 417  23  11]\n",
      " [ 32  14  25  19  14 420  40]\n",
      " [112  38  16  27  21 116 266]]\n",
      "              precision    recall  f1-score   support\n",
      "\n",
      "           0       0.70      0.92      0.80       595\n",
      "           1       0.86      0.82      0.84       588\n",
      "           2       0.76      0.85      0.80       638\n",
      "           3       0.73      0.67      0.70       612\n",
      "           4       0.72      0.69      0.70       607\n",
      "           5       0.66      0.74      0.70       564\n",
      "           6       0.71      0.45      0.55       596\n",
      "\n",
      "    accuracy                           0.73      4200\n",
      "   macro avg       0.74      0.73      0.73      4200\n",
      "weighted avg       0.74      0.73      0.73      4200\n",
      "\n"
     ]
    }
   ],
   "source": [
    "confusion_matrix = metrics.confusion_matrix(y_test, predicted_nb)\n",
    "\n",
    "print(confusion_matrix)\n",
    "\n",
    "print(classification_report(y_test, predicted_nb))"
   ]
  },
  {
   "cell_type": "markdown",
   "metadata": {},
   "source": [
    "### 2.4 Ada Boost"
   ]
  },
  {
   "cell_type": "code",
   "execution_count": 144,
   "metadata": {},
   "outputs": [],
   "source": [
    "from sklearn.ensemble import AdaBoostClassifier\n",
    "from sklearn.pipeline import Pipeline\n",
    "from sklearn.tree import DecisionTreeClassifier\n",
    "\n",
    "ada = AdaBoostClassifier(DecisionTreeClassifier(max_depth=2),n_estimators=50,learning_rate=1)\n",
    "\n",
    "model_ada = Pipeline([('vectorizing', tfidf_vector),\n",
    "                 ('learning', ada)])"
   ]
  },
  {
   "cell_type": "code",
   "execution_count": 145,
   "metadata": {},
   "outputs": [
    {
     "data": {
      "text/plain": [
       "Pipeline(steps=[('vectorizing',\n",
       "                 TfidfVectorizer(min_df=0.0,\n",
       "                                 tokenizer=<function feature_extraction at 0x7f56413d8670>)),\n",
       "                ('learning',\n",
       "                 AdaBoostClassifier(base_estimator=DecisionTreeClassifier(max_depth=2),\n",
       "                                    learning_rate=1))])"
      ]
     },
     "execution_count": 145,
     "metadata": {},
     "output_type": "execute_result"
    }
   ],
   "source": [
    "model_ada.fit(X_train, y_train)"
   ]
  },
  {
   "cell_type": "code",
   "execution_count": 146,
   "metadata": {},
   "outputs": [],
   "source": [
    "predicted_ab = model_ada.predict(X_test)"
   ]
  },
  {
   "cell_type": "code",
   "execution_count": 147,
   "metadata": {
    "scrolled": false
   },
   "outputs": [
    {
     "name": "stdout",
     "output_type": "stream",
     "text": [
      "[[375   7   5  22  28  16 142]\n",
      " [ 12 310   3  12  19  10 222]\n",
      " [  4  22 369  16  39  11 177]\n",
      " [ 24  22  31 185  70  11 269]\n",
      " [ 11  15  54  65 207  12 243]\n",
      " [ 22  26  22  14  10 233 237]\n",
      " [ 56  30  12  21  42  51 384]]\n",
      "              precision    recall  f1-score   support\n",
      "\n",
      "           0       0.74      0.63      0.68       595\n",
      "           1       0.72      0.53      0.61       588\n",
      "           2       0.74      0.58      0.65       638\n",
      "           3       0.55      0.30      0.39       612\n",
      "           4       0.50      0.34      0.41       607\n",
      "           5       0.68      0.41      0.51       564\n",
      "           6       0.23      0.64      0.34       596\n",
      "\n",
      "    accuracy                           0.49      4200\n",
      "   macro avg       0.59      0.49      0.51      4200\n",
      "weighted avg       0.59      0.49      0.51      4200\n",
      "\n"
     ]
    }
   ],
   "source": [
    "from sklearn import metrics\n",
    "from sklearn.metrics import classification_report\n",
    "confusion_matrix = metrics.confusion_matrix(y_test, predicted_ab)\n",
    "\n",
    "print(confusion_matrix)\n",
    "\n",
    "print(classification_report(y_test, predicted_ab))"
   ]
  },
  {
   "cell_type": "markdown",
   "metadata": {},
   "source": [
    "---"
   ]
  },
  {
   "cell_type": "markdown",
   "metadata": {},
   "source": [
    "## Resultados"
   ]
  },
  {
   "cell_type": "markdown",
   "metadata": {},
   "source": [
    "Las soluciones quedan almacenadas en:"
   ]
  },
  {
   "cell_type": "code",
   "execution_count": 148,
   "metadata": {},
   "outputs": [
    {
     "name": "stdout",
     "output_type": "stream",
     "text": [
      "k-nearest neighbors:  [1 1 1 ... 1 1 1]\n",
      "Árbol de decisión:  [1 4 5 ... 3 6 1]\n",
      "Gradient Tree boosting:  [6 6 2 ... 5 5 1]\n",
      "Naive Bayes:  [3 4 2 ... 2 5 1]\n",
      "Ada Boost:  [6 6 2 ... 6 6 1]\n"
     ]
    }
   ],
   "source": [
    "print(\"k-nearest neighbors: \",predicted_knn)\n",
    "print(\"Árbol de decisión: \",predicted_dt)\n",
    "print(\"Gradient Tree boosting: \",predicted_GBC)\n",
    "print(\"Naive Bayes: \",predicted_nb)\n",
    "print(\"Ada Boost: \",predicted_ab)"
   ]
  },
  {
   "cell_type": "markdown",
   "metadata": {},
   "source": [
    "Analizando las métricas de estos resultados:"
   ]
  },
  {
   "cell_type": "markdown",
   "metadata": {},
   "source": [
    "* Accuracy "
   ]
  },
  {
   "cell_type": "code",
   "execution_count": 149,
   "metadata": {},
   "outputs": [
    {
     "name": "stdout",
     "output_type": "stream",
     "text": [
      "k-nearest neighbors:  0.23214285714285715\n",
      "Árbol de decisión:  0.5111904761904762\n",
      "Gradient Tree boosting:  0.6242857142857143\n",
      "Naive Bayes:  0.7347619047619047\n",
      "Ada Boost:  0.4911904761904762\n"
     ]
    }
   ],
   "source": [
    "from sklearn.metrics import accuracy_score\n",
    "print(\"k-nearest neighbors: \",accuracy_score(y_test, predicted_knn))\n",
    "print(\"Árbol de decisión: \",accuracy_score(y_test, predicted_dt))\n",
    "print(\"Gradient Tree boosting: \",accuracy_score(y_test, predicted_GBC))\n",
    "print(\"Naive Bayes: \",accuracy_score(y_test, predicted_nb))\n",
    "print(\"Ada Boost: \",accuracy_score(y_test, predicted_ab))"
   ]
  },
  {
   "cell_type": "markdown",
   "metadata": {},
   "source": [
    "* Recall"
   ]
  },
  {
   "cell_type": "code",
   "execution_count": 150,
   "metadata": {},
   "outputs": [
    {
     "name": "stdout",
     "output_type": "stream",
     "text": [
      "k-nearest neighbors:  0.2339104107698223\n",
      "Árbol de decisión:  0.5104902634555486\n",
      "Gradient Tree boosting:  0.6236526221669509\n",
      "Naive Bayes:  0.734223270729743\n",
      "Ada Boost:  0.49093682272039996\n"
     ]
    }
   ],
   "source": [
    "from sklearn.metrics import recall_score\n",
    "\n",
    "print(\"k-nearest neighbors: \",recall_score(y_test, predicted_knn, average='macro'))\n",
    "print(\"Árbol de decisión: \",recall_score(y_test, predicted_dt, average='macro'))\n",
    "print(\"Gradient Tree boosting: \",recall_score(y_test, predicted_GBC, average='macro'))\n",
    "print(\"Naive Bayes: \",recall_score(y_test, predicted_nb, average='macro'))\n",
    "print(\"Ada Boost: \",recall_score(y_test, predicted_ab, average='macro'))"
   ]
  },
  {
   "cell_type": "markdown",
   "metadata": {},
   "source": [
    "* F1"
   ]
  },
  {
   "cell_type": "code",
   "execution_count": 151,
   "metadata": {},
   "outputs": [
    {
     "name": "stdout",
     "output_type": "stream",
     "text": [
      "k-nearest neighbors:  0.2110521744561987\n",
      "Árbol de decisión:  0.5123986787909877\n",
      "Gradient Tree boosting:  0.6288014475383091\n",
      "Naive Bayes:  0.7276082497197127\n",
      "Ada Boost:  0.5126303969684233\n"
     ]
    }
   ],
   "source": [
    "from sklearn.metrics import f1_score\n",
    "print(\"k-nearest neighbors: \",f1_score(y_test, predicted_knn, average='macro'))\n",
    "print(\"Árbol de decisión: \",f1_score(y_test, predicted_dt, average='macro'))\n",
    "print(\"Gradient Tree boosting: \",f1_score(y_test, predicted_GBC, average='macro'))\n",
    "print(\"Naive Bayes: \",f1_score(y_test, predicted_nb, average='macro'))\n",
    "print(\"Ada Boost: \",f1_score(y_test, predicted_ab, average='macro'))"
   ]
  },
  {
   "cell_type": "markdown",
   "metadata": {},
   "source": [
    "Por un lado tenemos el método de KNN que llama la atención por su mal rendimiento en todas las métricas, registrando tasas de éxito del 20%. Aún cuando este método es utilizado dentro de contextos de clasificación de textos en otras circunstancias, el escenario presentado de noticias puede conllevar a una nula posibilidad de separación linear entre sus muestras, dando pésimos resultados con los distintos k probados (Desde 1 hasta 7)."
   ]
  },
  {
   "cell_type": "markdown",
   "metadata": {},
   "source": [
    "Por otro, tenemos 3 algoritmos con un resultado medianamente débil o mejorable (50~69%), su punto en común es que nacen de la idea de básica de **árboles de decisión**, implementando una u otra forma de optimización **secuencial** en sus decisiones. Mientras que **Adaboost** realiza una actualización de pesos en cada modelo con el set resultante, **GBC** realiza una valoración tanto del siguiente modelo como de los anteriores, minizando el error de predicción."
   ]
  },
  {
   "cell_type": "markdown",
   "metadata": {},
   "source": [
    "Y finalizando con el mejor resultado de entrenamiento, el modelo de **Naive Bayes** alcanza los valores de precision y recall más altos para las distintas clases, demostrando no sólo una alta tasa de positivos sobre el total, sino una buena robustez en un análisis de 6 clases, con valores sobre el 70%~. A continuación se muestran las palabras claves del modelo: "
   ]
  },
  {
   "cell_type": "code",
   "execution_count": 153,
   "metadata": {
    "scrolled": true
   },
   "outputs": [
    {
     "name": "stdout",
     "output_type": "stream",
     "text": [
      "[('ser', -6.3882927871602675), ('año', -6.506275407959388), ('nuevo', -6.6185166579143395), ('película', -6.641571462718275), ('canción', -6.682336274434772), ('”', -6.7126520771902225), ('artista', -6.844945050425365), ('tener', -6.90053979048079), ('músico', -6.919641442164756), ('estrenar', -7.016563201437288)]\n",
      "[('chileno', -6.6018193384713975), ('partir', -6.698047180439879), ('jugador', -6.74590781943437), ('ganar', -6.773427333916589), ('gol', -6.7770323822283505), ('colo', -6.807622788293902), ('rojo', -6.8081216541073735), ('fútbol', -6.833204185875901), ('ser', -6.834222701073478), ('jugar', -6.904930253187365)]\n"
     ]
    }
   ],
   "source": [
    "def get_salient_words(nb_clf, vect, class_ind):\n",
    "    words = vect.get_feature_names()\n",
    "    zipped = list(zip(words, nb_clf.feature_log_prob_[class_ind]))\n",
    "    sorted_zip = sorted(zipped, key=lambda t: t[1], reverse=True)\n",
    "\n",
    "    return sorted_zip\n",
    "\n",
    "neg_salient_top = get_salient_words(nb, tfidf_vector, 0)[:10]\n",
    "pos_salient_top = get_salient_words(nb, tfidf_vector, 1)[:10]\n",
    "\n",
    "print(neg_salient_top)\n",
    "print(pos_salient_top)"
   ]
  },
  {
   "cell_type": "markdown",
   "metadata": {},
   "source": [
    "Para concluir, aún cuando los modelos utilizados son de uso común en ámbitos de clasificación (binaria o multilabel) es necesario considerar aspectos propios del dataset para determinar cual resulta más práctico de implementar. En este caso donde el dataset original trató de igual manera los título de noticias como su propio contenido, es posible conseguir un mejor resultado en un modelo de bayes condicional, que utilice principios de indepencia para estimar de mejor forma la **temática** de cada una."
   ]
  },
  {
   "cell_type": "markdown",
   "metadata": {},
   "source": [
    "### Algunas referencias\n",
    "* https://arxiv.org/pdf/1705.05311.pdf\n",
    "* https://medium.com/axel-springer-tech/how-to-classify-news-articles-in-the-real-world-144cc9f99540\n",
    "* https://www.displayr.com/gradient-boosting-the-coolest-kid-on-the-machine-learning-block/#:~:text=Gradient%20boosting%20is%20a%20type,minimizes%20the%20overall%20prediction%20error.&text=reduce%20the%20error.-,If%20a%20small%20change%20in%20the%20prediction%20for%20a%20case,of%20the%20case%20is%20zero."
   ]
  }
 ],
 "metadata": {
  "kernelspec": {
   "display_name": "Python 3",
   "language": "python",
   "name": "python3"
  },
  "language_info": {
   "codemirror_mode": {
    "name": "ipython",
    "version": 3
   },
   "file_extension": ".py",
   "mimetype": "text/x-python",
   "name": "python",
   "nbconvert_exporter": "python",
   "pygments_lexer": "ipython3",
   "version": "3.8.6"
  }
 },
 "nbformat": 4,
 "nbformat_minor": 2
}
